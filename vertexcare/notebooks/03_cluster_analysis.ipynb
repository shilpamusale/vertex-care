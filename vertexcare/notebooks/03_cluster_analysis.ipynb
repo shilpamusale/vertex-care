{
 "cells": [
  {
   "cell_type": "code",
   "execution_count": 5,
   "id": "1a770145",
   "metadata": {},
   "outputs": [],
   "source": [
    "import pandas as pd\n",
    "from pathlib import Path"
   ]
  },
  {
   "cell_type": "code",
   "execution_count": 12,
   "id": "0efcab30",
   "metadata": {},
   "outputs": [],
   "source": [
    "NOTEBOOK_DIR = Path.cwd()\n",
    "MODULE_ROOT = NOTEBOOK_DIR.parent  # This should be the 'vertexcare' directory\n",
    "CLUSTERED_DATA_PATH = MODULE_ROOT / \"data\" / \"03_primary\" / \"clustered_patients.parquet\""
   ]
  },
  {
   "cell_type": "code",
   "execution_count": 13,
   "id": "59644aed",
   "metadata": {},
   "outputs": [],
   "source": [
    "FEATURES_TO_ANALYZE = [\n",
    "    'age',\n",
    "    'sumcomorbidities',\n",
    "    'hypertension',\n",
    "    'diabetes',\n",
    "    'readmitted', # How likely is this cluster to be readmitted?\n",
    "    'llm_transportation_issue',\n",
    "    'llm_financial_concern',\n",
    "    'llm_sentiment_positive',\n",
    "    'llm_sentiment_negative',\n",
    "]"
   ]
  },
  {
   "cell_type": "code",
   "execution_count": 14,
   "id": "0729f4f9",
   "metadata": {},
   "outputs": [
    {
     "name": "stdout",
     "output_type": "stream",
     "text": [
      "Loading data from: /workspaces/vertex-care/vertexcare/data/03_primary/clustered_patients.parquet\n",
      "Data loaded successfully.\n",
      "------------------------------\n"
     ]
    }
   ],
   "source": [
    "# --- Load the Data ---\n",
    "print(f\"Loading data from: {CLUSTERED_DATA_PATH}\")\n",
    "df = pd.read_parquet(CLUSTERED_DATA_PATH)\n",
    "print(\"Data loaded successfully.\")\n",
    "print(\"-\" * 30)"
   ]
  },
  {
   "cell_type": "code",
   "execution_count": 15,
   "id": "dc851d00",
   "metadata": {},
   "outputs": [
    {
     "name": "stdout",
     "output_type": "stream",
     "text": [
      "Analyzing Cluster Profiles...\n",
      "Cluster Profiles (Mean Values):\n",
      "           age  sumcomorbidities  hypertension  diabetes  readmitted  \\\n",
      "cluster                                                                \n",
      "0        56.84              0.62          0.32      0.00        0.27   \n",
      "1        55.69              0.51          0.38      0.31        0.30   \n",
      "2        56.91              0.72          0.29      0.28        0.29   \n",
      "3        58.57              0.76          0.36      1.00        0.28   \n",
      "4        56.14              0.68          0.30      0.00        0.29   \n",
      "\n",
      "         llm_transportation_issue  llm_financial_concern  \\\n",
      "cluster                                                    \n",
      "0                             0.0                    0.0   \n",
      "1                             0.0                    1.0   \n",
      "2                             1.0                    0.0   \n",
      "3                             0.0                    0.0   \n",
      "4                             0.0                    0.0   \n",
      "\n",
      "         llm_sentiment_positive  llm_sentiment_negative  \n",
      "cluster                                                  \n",
      "0                          0.07                     0.0  \n",
      "1                          0.00                     1.0  \n",
      "2                          0.00                     0.0  \n",
      "3                          0.09                     0.0  \n",
      "4                          0.08                     0.0  \n"
     ]
    }
   ],
   "source": [
    "# --- Analyze the Clusters ---\n",
    "print(\"Analyzing Cluster Profiles...\")\n",
    "cluster_profiles = df.groupby('cluster')[FEATURES_TO_ANALYZE].mean().round(2)\n",
    "\n",
    "print(\"Cluster Profiles (Mean Values):\")\n",
    "print(cluster_profiles)"
   ]
  }
 ],
 "metadata": {
  "kernelspec": {
   "display_name": "venv",
   "language": "python",
   "name": "python3"
  },
  "language_info": {
   "codemirror_mode": {
    "name": "ipython",
    "version": 3
   },
   "file_extension": ".py",
   "mimetype": "text/x-python",
   "name": "python",
   "nbconvert_exporter": "python",
   "pygments_lexer": "ipython3",
   "version": "3.12.1"
  }
 },
 "nbformat": 4,
 "nbformat_minor": 5
}
